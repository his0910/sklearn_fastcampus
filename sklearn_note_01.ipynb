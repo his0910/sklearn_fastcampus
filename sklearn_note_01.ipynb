{
  "nbformat": 4,
  "nbformat_minor": 0,
  "metadata": {
    "colab": {
      "name": "[실습]Ch02.sklearn의 개요 - 02.학습(fit), 예측(predict) 실습.ipynb",
      "provenance": [],
      "collapsed_sections": []
    },
    "kernelspec": {
      "name": "python3",
      "display_name": "Python 3"
    }
  },
  "cells": [
    {
      "cell_type": "code",
      "metadata": {
        "id": "e7FbfkBhIkTs"
      },
      "source": [
        "import numpy as np\n",
        "from sklearn.linear_model import LinearRegression"
      ],
      "execution_count": 2,
      "outputs": []
    },
    {
      "cell_type": "code",
      "source": [
        "# import numpy as np\n",
        "# from sklearn.linear_model import LinearRegression\n",
        "# 따라쓰기 연습"
      ],
      "metadata": {
        "id": "aSWsvAKWuzOI"
      },
      "execution_count": 3,
      "outputs": []
    },
    {
      "cell_type": "code",
      "metadata": {
        "id": "6mbsGFOL686M"
      },
      "source": [
        "# reshape 코드입력\n",
        "x = np.arange(10).reshape(-1, 1)\n",
        "y = (2*x + 1).reshape(-1, 1)"
      ],
      "execution_count": 4,
      "outputs": []
    },
    {
      "cell_type": "code",
      "metadata": {
        "id": "zxeoKPMpI4o6",
        "colab": {
          "base_uri": "https://localhost:8080/"
        },
        "outputId": "35f37209-2ce2-4439-b0a0-0f562300195e"
      },
      "source": [
        "x"
      ],
      "execution_count": 5,
      "outputs": [
        {
          "output_type": "execute_result",
          "data": {
            "text/plain": [
              "array([[0],\n",
              "       [1],\n",
              "       [2],\n",
              "       [3],\n",
              "       [4],\n",
              "       [5],\n",
              "       [6],\n",
              "       [7],\n",
              "       [8],\n",
              "       [9]])"
            ]
          },
          "metadata": {},
          "execution_count": 5
        }
      ]
    },
    {
      "cell_type": "code",
      "metadata": {
        "id": "Nlx4kjkrI5N5",
        "colab": {
          "base_uri": "https://localhost:8080/"
        },
        "outputId": "3db59945-1649-417e-d5b1-919b55f41d16"
      },
      "source": [
        "y"
      ],
      "execution_count": 6,
      "outputs": [
        {
          "output_type": "execute_result",
          "data": {
            "text/plain": [
              "array([[ 1],\n",
              "       [ 3],\n",
              "       [ 5],\n",
              "       [ 7],\n",
              "       [ 9],\n",
              "       [11],\n",
              "       [13],\n",
              "       [15],\n",
              "       [17],\n",
              "       [19]])"
            ]
          },
          "metadata": {},
          "execution_count": 6
        }
      ]
    },
    {
      "cell_type": "markdown",
      "metadata": {
        "id": "lrYy3kXBJMxu"
      },
      "source": [
        "## 모델의 선언, fit(학습), predict(예측)"
      ]
    },
    {
      "cell_type": "code",
      "metadata": {
        "id": "JJ9T6KAtI5hw"
      },
      "source": [
        "# 모델 선언\n",
        "model = LinearRegression()"
      ],
      "execution_count": 7,
      "outputs": []
    },
    {
      "cell_type": "code",
      "metadata": {
        "id": "5dhecI6k0a3J",
        "colab": {
          "base_uri": "https://localhost:8080/"
        },
        "outputId": "58984564-af13-46cd-e3d3-52a8fb3c6e79"
      },
      "source": [
        "model"
      ],
      "execution_count": 8,
      "outputs": [
        {
          "output_type": "execute_result",
          "data": {
            "text/plain": [
              "LinearRegression()"
            ]
          },
          "metadata": {},
          "execution_count": 8
        }
      ]
    },
    {
      "cell_type": "code",
      "metadata": {
        "id": "m9eilQAYI8W2",
        "colab": {
          "base_uri": "https://localhost:8080/"
        },
        "outputId": "3c5caf71-9360-4054-f5ad-84e0f180f4e8"
      },
      "source": [
        "# 학습\n",
        "model.fit(x, y)"
      ],
      "execution_count": 9,
      "outputs": [
        {
          "output_type": "execute_result",
          "data": {
            "text/plain": [
              "LinearRegression()"
            ]
          },
          "metadata": {},
          "execution_count": 9
        }
      ]
    },
    {
      "cell_type": "code",
      "metadata": {
        "id": "06JEQA_bI9mz"
      },
      "source": [
        "# 예측 # 예측값 10.0 투입\n",
        "prediction = model.predict([[10.0]])"
      ],
      "execution_count": 11,
      "outputs": []
    },
    {
      "cell_type": "code",
      "metadata": {
        "id": "2l_GkdT7JX8q",
        "colab": {
          "base_uri": "https://localhost:8080/"
        },
        "outputId": "f8df59db-4de5-4bbc-a929-b56dc074c2ff"
      },
      "source": [
        "prediction"
      ],
      "execution_count": 12,
      "outputs": [
        {
          "output_type": "execute_result",
          "data": {
            "text/plain": [
              "array([[21.]])"
            ]
          },
          "metadata": {},
          "execution_count": 12
        }
      ]
    },
    {
      "cell_type": "code",
      "metadata": {
        "id": "c_61c-i-Jp85"
      },
      "source": [
        ""
      ],
      "execution_count": null,
      "outputs": []
    }
  ]
}